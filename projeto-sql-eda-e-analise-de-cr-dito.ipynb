{
 "cells": [
  {
   "cell_type": "markdown",
   "id": "449d5a33",
   "metadata": {
    "papermill": {
     "duration": 0.00937,
     "end_time": "2024-07-02T20:54:48.278564",
     "exception": false,
     "start_time": "2024-07-02T20:54:48.269194",
     "status": "completed"
    },
    "tags": []
   },
   "source": [
    "# **Exploração e análise de dados de crédito com SQL**"
   ]
  },
  {
   "cell_type": "markdown",
   "id": "fa76fd91",
   "metadata": {
    "papermill": {
     "duration": 0.007562,
     "end_time": "2024-07-02T20:54:48.295159",
     "exception": false,
     "start_time": "2024-07-02T20:54:48.287597",
     "status": "completed"
    },
    "tags": []
   },
   "source": [
    "**Os dados**:\n",
    "\n",
    "Vamos trabalhar com uma tabela de dados que representam informações de clientes de um banco e contam com as seguintes colunas:\n",
    "\n",
    "* **idade** = idade do cliente\n",
    "* **sexo** = sexo do cliente (F ou M)\n",
    "* **dependentes** = número de dependentes do cliente\n",
    "* **escolaridade** = nível de escolaridade do clientes\n",
    "* **salario_anual** = faixa salarial do cliente\n",
    "* **tipo_cartao** = tipo de cartao do cliente\n",
    "* **qtd_produtos** = quantidade de produtos comprados nos últimos 12 meses\n",
    "* **iteracoes_12m** = quantidade de iterações/transacoes nos ultimos 12 meses\n",
    "* **meses_inativo_12m** = quantidade de meses que o cliente ficou inativo\n",
    "* **limite_credito** = limite de credito do cliente\n",
    "* **valor_transacoes_12m** = valor das transações dos ultimos 12 meses\n",
    "* **qtd_transacoes_12m** = quantidade de transacoes dos ultimos 12 meses\n",
    "\n",
    "A tabela foi criada no **AWS Athena** junto com o **S3 Bucket** com uma versão dos dados disponibilizados em: https://github.com/andre-marcos-perez/ebac-course-utils/tree/main/dataset"
   ]
  },
  {
   "cell_type": "markdown",
   "id": "d5618029",
   "metadata": {
    "papermill": {
     "duration": 0.007589,
     "end_time": "2024-07-02T20:54:48.310987",
     "exception": false,
     "start_time": "2024-07-02T20:54:48.303398",
     "status": "completed"
    },
    "tags": []
   },
   "source": [
    "# **Exploração de dados:**"
   ]
  },
  {
   "cell_type": "markdown",
   "id": "0647fcc6",
   "metadata": {
    "papermill": {
     "duration": 0.007492,
     "end_time": "2024-07-02T20:54:48.326184",
     "exception": false,
     "start_time": "2024-07-02T20:54:48.318692",
     "status": "completed"
    },
    "tags": []
   },
   "source": [
    "A primeira fase da análise é entender o que tem na nossa matéria prima. Vamos então realizar a exploração de dados:\n",
    "\n",
    "* Qual a quantidade de informações temos na nossa base de dados?\n",
    "\n",
    "**Query: SELECT count(*) AS Quantidade_Linhas FROM credito**\n",
    "\n",
    "![](https://github.com/vanessamo88/ProjetoSQL/blob/main/quantidade.PNG?raw=true)\n",
    "\n",
    "*Resposta: 2564 linhas*\n",
    "\n",
    "PS.: A base de dados do link acima contém mais linhas do que a seleção utilizada. Isso se deve ao fato de existirem limites computacionais e financeiros na qual a redução de dados para análise para fins de estudo, se torna mais interessante.\n",
    "\n",
    "* Como são os dados(10 primeiras linhas):\n",
    "\n",
    "**Query: SELECT * FROM credito LIMIT 10;**\n",
    "\n",
    "![](https://github.com/vanessamo88/ProjetoSQL/blob/main/tabela.PNG?raw=true)\n",
    "\n",
    "-- Valores nulos(na) serão tratados posteriormente."
   ]
  },
  {
   "cell_type": "markdown",
   "id": "5664f38c",
   "metadata": {
    "papermill": {
     "duration": 0.007678,
     "end_time": "2024-07-02T20:54:48.342182",
     "exception": false,
     "start_time": "2024-07-02T20:54:48.334504",
     "status": "completed"
    },
    "tags": []
   },
   "source": [
    "* Quais os tipos de cada dado:\n",
    "\n",
    "**Query: DESCRIBE credito**\n",
    "\n",
    "![](https://github.com/vanessamo88/ProjetoSQL/blob/main/tipo_dados.PNG?raw=true)"
   ]
  },
  {
   "cell_type": "markdown",
   "id": "29fbe6c2",
   "metadata": {
    "papermill": {
     "duration": 0.007424,
     "end_time": "2024-07-02T20:54:48.357591",
     "exception": false,
     "start_time": "2024-07-02T20:54:48.350167",
     "status": "completed"
    },
    "tags": []
   },
   "source": [
    "Agora que já entendemos quais são os tipos de dados, vamos olhar mais atentamente para as varíaveis que não são numéricas.\n",
    "\n",
    "* Quais são os tipos de escolaridade disponíveis no dataset?\n",
    "\n",
    "**Query: SELECT DISTINCT escolaridade FROM credito**\n",
    "\n",
    "![](https://github.com/vanessamo88/ProjetoSQL/blob/main/escolaridade.PNG?raw=true)\n",
    "\n",
    "-- Valores nulos(na) serão tratados posteriormente."
   ]
  },
  {
   "cell_type": "markdown",
   "id": "8a193437",
   "metadata": {
    "papermill": {
     "duration": 0.00765,
     "end_time": "2024-07-02T20:54:48.372990",
     "exception": false,
     "start_time": "2024-07-02T20:54:48.365340",
     "status": "completed"
    },
    "tags": []
   },
   "source": [
    "* Tipos de estado_civil disponíveis no dataset:\n",
    "\n",
    "**Query: SELECT DISTINCT estado_civil FROM credito**\n",
    "\n",
    "![](https://github.com/vanessamo88/ProjetoSQL/blob/main/estadocivil.PNG?raw=true)\n",
    "\n",
    "-- Valores nulos(na) serão tratados posteriormente."
   ]
  },
  {
   "cell_type": "markdown",
   "id": "a59a7088",
   "metadata": {
    "papermill": {
     "duration": 0.007556,
     "end_time": "2024-07-02T20:54:48.388987",
     "exception": false,
     "start_time": "2024-07-02T20:54:48.381431",
     "status": "completed"
    },
    "tags": []
   },
   "source": [
    "* Quais são os tipos de salario_anual disponíveis no dataset?\n",
    "\n",
    "Os dados tratam-se da faixa salarial anual dos clientes.\n",
    "\n",
    "**Query: SELECT DISTINCT salario_anual FROM credito**\n",
    "\n",
    "![](https://github.com/vanessamo88/ProjetoSQL/blob/main/salario.PNG?raw=true)\n",
    "\n",
    "--Valores nulos(na) serão tratados posteriormente."
   ]
  },
  {
   "cell_type": "markdown",
   "id": "cc164b02",
   "metadata": {
    "papermill": {
     "duration": 0.007396,
     "end_time": "2024-07-02T20:54:48.404254",
     "exception": false,
     "start_time": "2024-07-02T20:54:48.396858",
     "status": "completed"
    },
    "tags": []
   },
   "source": [
    "* Quais são os tipos de cartão disponíveis no dataset?\n",
    "\n",
    "**Query: SELECT DISTINCT tipo_cartao FROM credito**\n",
    "\n",
    "![](https://github.com/vanessamo88/ProjetoSQL/blob/main/tipocartao.PNG?raw=true)"
   ]
  },
  {
   "cell_type": "markdown",
   "id": "74a58f79",
   "metadata": {
    "papermill": {
     "duration": 0.007498,
     "end_time": "2024-07-02T20:54:48.419549",
     "exception": false,
     "start_time": "2024-07-02T20:54:48.412051",
     "status": "completed"
    },
    "tags": []
   },
   "source": [
    "# **Análise de dados**\n",
    "\n",
    "Uma vez que exploramos o dados e buscamos entender quais são as informações que temos no nosso banco de dados, podemos analisar as informações para buscar entender o que está acontecendo.\n",
    "\n",
    "* Nesse banco de dados, quantos clientes temos de cada faixa salarial?\n",
    "\n",
    "**Query: select count(*), salario_anual from credito group by salario_anual**\n",
    "\n",
    "![](https://github.com/vanessamo88/ProjetoSQL/blob/main/mediasalclientes.PNG?raw=true)\n",
    "\n",
    "Dentre as faixas de renda que foram informadas, podemos ver uma concentração maior(701) em clientes que ganham menos de $40k ao ano, dessa forma, a instituição pode pensar em uma abordagem de negócios focada à esse público."
   ]
  },
  {
   "cell_type": "markdown",
   "id": "150c053d",
   "metadata": {
    "papermill": {
     "duration": 0.007486,
     "end_time": "2024-07-02T20:54:48.434941",
     "exception": false,
     "start_time": "2024-07-02T20:54:48.427455",
     "status": "completed"
    },
    "tags": []
   },
   "source": [
    "* Nesse banco de dados, quantos clientes são homens e quantos são mulheres?\n",
    "\n",
    "**Query: select count(*), sexo from credito group by sexo**\n",
    "\n",
    "![](https://github.com/vanessamo88/ProjetoSQL/blob/main/hommul.PNG?raw=true)"
   ]
  },
  {
   "cell_type": "markdown",
   "id": "cf011dc7",
   "metadata": {
    "papermill": {
     "duration": 0.007611,
     "end_time": "2024-07-02T20:54:48.450492",
     "exception": false,
     "start_time": "2024-07-02T20:54:48.442881",
     "status": "completed"
    },
    "tags": []
   },
   "source": [
    "Vamos criar um gráfico para vizualizar melhor as informações sobre distribuição dos clientes em relação ao sexo. Para isso, utilizaremos códigos Python:"
   ]
  },
  {
   "cell_type": "code",
   "execution_count": 1,
   "id": "82526003",
   "metadata": {
    "execution": {
     "iopub.execute_input": "2024-07-02T20:54:48.467898Z",
     "iopub.status.busy": "2024-07-02T20:54:48.467464Z",
     "iopub.status.idle": "2024-07-02T20:54:49.399577Z",
     "shell.execute_reply": "2024-07-02T20:54:49.398435Z"
    },
    "papermill": {
     "duration": 0.944211,
     "end_time": "2024-07-02T20:54:49.402508",
     "exception": false,
     "start_time": "2024-07-02T20:54:48.458297",
     "status": "completed"
    },
    "tags": []
   },
   "outputs": [],
   "source": [
    "#Bibliotecas utilizadas\n",
    "import pandas as pd\n",
    "import matplotlib.pyplot as plt"
   ]
  },
  {
   "cell_type": "code",
   "execution_count": 2,
   "id": "8497d36c",
   "metadata": {
    "execution": {
     "iopub.execute_input": "2024-07-02T20:54:49.421055Z",
     "iopub.status.busy": "2024-07-02T20:54:49.420461Z",
     "iopub.status.idle": "2024-07-02T20:54:49.458962Z",
     "shell.execute_reply": "2024-07-02T20:54:49.457773Z"
    },
    "papermill": {
     "duration": 0.050757,
     "end_time": "2024-07-02T20:54:49.461730",
     "exception": false,
     "start_time": "2024-07-02T20:54:49.410973",
     "status": "completed"
    },
    "tags": []
   },
   "outputs": [
    {
     "data": {
      "text/html": [
       "<div>\n",
       "<style scoped>\n",
       "    .dataframe tbody tr th:only-of-type {\n",
       "        vertical-align: middle;\n",
       "    }\n",
       "\n",
       "    .dataframe tbody tr th {\n",
       "        vertical-align: top;\n",
       "    }\n",
       "\n",
       "    .dataframe thead th {\n",
       "        text-align: right;\n",
       "    }\n",
       "</style>\n",
       "<table border=\"1\" class=\"dataframe\">\n",
       "  <thead>\n",
       "    <tr style=\"text-align: right;\">\n",
       "      <th></th>\n",
       "      <th>_col0</th>\n",
       "      <th>sexo</th>\n",
       "    </tr>\n",
       "  </thead>\n",
       "  <tbody>\n",
       "    <tr>\n",
       "      <th>0</th>\n",
       "      <td>1001</td>\n",
       "      <td>F</td>\n",
       "    </tr>\n",
       "    <tr>\n",
       "      <th>1</th>\n",
       "      <td>1563</td>\n",
       "      <td>M</td>\n",
       "    </tr>\n",
       "  </tbody>\n",
       "</table>\n",
       "</div>"
      ],
      "text/plain": [
       "   _col0 sexo\n",
       "0   1001    F\n",
       "1   1563    M"
      ]
     },
     "execution_count": 2,
     "metadata": {},
     "output_type": "execute_result"
    }
   ],
   "source": [
    "# Carregar o dataset com arquivo .csv estraído do SELECT do AWS Athena:\n",
    "df = pd.read_csv('/kaggle/input/groupbusex/groupbysex.csv')\n",
    "\n",
    "# Exemplo de análise exploratória: mesmos dados do AWS agora em Python\n",
    "df.head()"
   ]
  },
  {
   "cell_type": "code",
   "execution_count": 3,
   "id": "e0479724",
   "metadata": {
    "execution": {
     "iopub.execute_input": "2024-07-02T20:54:49.480415Z",
     "iopub.status.busy": "2024-07-02T20:54:49.479599Z",
     "iopub.status.idle": "2024-07-02T20:54:49.663993Z",
     "shell.execute_reply": "2024-07-02T20:54:49.662759Z"
    },
    "papermill": {
     "duration": 0.199114,
     "end_time": "2024-07-02T20:54:49.669177",
     "exception": false,
     "start_time": "2024-07-02T20:54:49.470063",
     "status": "completed"
    },
    "tags": []
   },
   "outputs": [
    {
     "data": {
      "image/png": "[encoded data removed]",
      "text/plain": [
       "<Figure size 800x600 with 1 Axes>"
      ]
     },
     "metadata": {},
     "output_type": "display_data"
    }
   ],
   "source": [
    "# Criar o DataFrame com os dados fornecidos\n",
    "data = {\n",
    "    '_col0': [1001, 1563],\n",
    "    'sexo': ['F', 'M']\n",
    "}\n",
    "df = pd.DataFrame(data)\n",
    "\n",
    "# Preparar os dados para o gráfico de pizza\n",
    "valores = df['_col0']\n",
    "categorias = df['sexo']\n",
    "cores = ['lightcoral', 'lightskyblue']  # Cores para cada categoria ('F' para feminino, 'M' para masculino)\n",
    "\n",
    "# Criar o gráfico de pizza\n",
    "plt.figure(figsize=(8, 6))\n",
    "plt.pie(valores, labels=categorias, colors=cores, autopct='%1.1f%%', startangle=140)\n",
    "plt.title('Quantidade de pessoas por Sexo')\n",
    "plt.axis('equal')  # Assegura que o gráfico de pizza é desenhado como um círculo.\n",
    "plt.show()"
   ]
  },
  {
   "cell_type": "markdown",
   "id": "6f192ddb",
   "metadata": {
    "papermill": {
     "duration": 0.018431,
     "end_time": "2024-07-02T20:54:49.705739",
     "exception": false,
     "start_time": "2024-07-02T20:54:49.687308",
     "status": "completed"
    },
    "tags": []
   },
   "source": [
    "É possível verificar, que a maioria dos clientes é homem."
   ]
  },
  {
   "cell_type": "markdown",
   "id": "8bea84fb",
   "metadata": {
    "papermill": {
     "duration": 0.00906,
     "end_time": "2024-07-02T20:54:49.732878",
     "exception": false,
     "start_time": "2024-07-02T20:54:49.723818",
     "status": "completed"
    },
    "tags": []
   },
   "source": [
    "* Vamos verificar qual a faixa etária desses clientes, para melhorar a estratégia de marketing.\n",
    "\n",
    "**Query: select avg(idade) as media_idade, min(idade) as min_idade, max(idade) as max_idade, sexo from credito group by sexo**\n",
    "\n",
    "![](https://github.com/vanessamo88/ProjetoSQL/blob/main/faixaetaria.PNG?raw=true)"
   ]
  },
  {
   "cell_type": "markdown",
   "id": "7a313a05",
   "metadata": {
    "papermill": {
     "duration": 0.008279,
     "end_time": "2024-07-02T20:54:49.749678",
     "exception": false,
     "start_time": "2024-07-02T20:54:49.741399",
     "status": "completed"
    },
    "tags": []
   },
   "source": [
    "Não foram retiradas informações relevantes desses dados, devido não ter sido encontrada nenhuma discrepância de idades entre homens e mulheres."
   ]
  },
  {
   "cell_type": "markdown",
   "id": "6094201d",
   "metadata": {
    "papermill": {
     "duration": 0.008106,
     "end_time": "2024-07-02T20:54:49.766358",
     "exception": false,
     "start_time": "2024-07-02T20:54:49.758252",
     "status": "completed"
    },
    "tags": []
   },
   "source": [
    "* Qual a maior e menor transação dos clientes?\n",
    "\n",
    "**Query: select min(valor_transacoes_12m) as transacao_minima, max(valor_transacoes_12m) as transacao_minima from credito**\n",
    "\n",
    "![](https://github.com/vanessamo88/ProjetoSQL/blob/main/maxmin.PNG?raw=true)\n",
    "\n",
    "Nesse banco de dados vemos a soma de transações em 12 meses, que variam de 510.16 a 5776.58"
   ]
  },
  {
   "cell_type": "markdown",
   "id": "68ca2c39",
   "metadata": {
    "papermill": {
     "duration": 0.008319,
     "end_time": "2024-07-02T20:54:49.784491",
     "exception": false,
     "start_time": "2024-07-02T20:54:49.776172",
     "status": "completed"
    },
    "tags": []
   },
   "source": [
    "* Quais as características dos clientes que possuem os maiores creditos?\n",
    "\n",
    "**Query: select max(limite_credito) as limite_credito, escolaridade, tipo_cartao, sexo from credito where escolaridade != 'na' and tipo_cartao != 'na' group by escolaridade, tipo_cartao, sexo order by limite_credito desc limit 10**\n",
    "\n",
    "![](https://github.com/vanessamo88/ProjetoSQL/blob/main/limcred.PNG?raw=true)\n",
    "\n",
    "Não parece haver um impacto da escolaridade no limite. O limite mais alto é oferecido para um homem sem educação formal. O cartão também parece não estar relacionado com a escolaridade nem com o limite. Dentre os maiores limites, encontramos clientes com cartão: gold, silver, platinum e blue"
   ]
  },
  {
   "cell_type": "markdown",
   "id": "7e501d82",
   "metadata": {
    "papermill": {
     "duration": 0.008167,
     "end_time": "2024-07-02T20:54:49.801145",
     "exception": false,
     "start_time": "2024-07-02T20:54:49.792978",
     "status": "completed"
    },
    "tags": []
   },
   "source": [
    "* Quais as características dos clientes que possuem os menores creditos?\n",
    "\n",
    "**Query: select max(limite_credito) as limite_credito, escolaridade, tipo_cartao, sexo from credito where escolaridade != 'na' and tipo_cartao != 'na' group by escolaridade, tipo_cartao, sexo order by limite_credito asc**\n",
    "\n",
    "![](https://github.com/vanessamo88/ProjetoSQL/blob/main/menlim.PNG?raw=true)\n",
    "\n",
    "Dessa vez conseguimos perceber que não há clientes com cartão platinum dentre os menores limites. Também foi possível perceber que a maioria dos menores limites são mulheres enquanto nos maiores limites predomina homens."
   ]
  },
  {
   "cell_type": "markdown",
   "id": "a8ef0089",
   "metadata": {
    "papermill": {
     "duration": 0.008417,
     "end_time": "2024-07-02T20:54:49.818094",
     "exception": false,
     "start_time": "2024-07-02T20:54:49.809677",
     "status": "completed"
    },
    "tags": []
   },
   "source": [
    "* Será que as mulheres gastam mais?\n",
    "\n",
    "**Query: select max(valor_transacoes_12m) as maior_valor_gasto, avg(valor_transacoes_12m) as media_valor_gasto, min(valor_transacoes_12m) as min_valor_gasto, sexo from credito group by sexo**\n",
    "\n",
    "![](https://github.com/vanessamo88/ProjetoSQL/blob/main/gastos.PNG?raw=true)\n",
    "\n",
    "Apesar da diferença nos limites, os gastos de homens e mulheres são similares."
   ]
  },
  {
   "cell_type": "markdown",
   "id": "63914bba",
   "metadata": {
    "papermill": {
     "duration": 0.008144,
     "end_time": "2024-07-02T20:54:49.834733",
     "exception": false,
     "start_time": "2024-07-02T20:54:49.826589",
     "status": "completed"
    },
    "tags": []
   },
   "source": [
    "* O salário impacta no limite?\n",
    "\n",
    "**Query: select avg(qtd_produtos) as qts_produtos, avg(valor_transacoes_12m) as media_valor_transacoes, avg(limite_credito) as media_limite, sexo, salario_anual from credito where salario_anual != 'na' group by sexo, salario_anual order by avg(valor_transacoes_12m) desc**\n",
    "\n",
    "![](https://github.com/vanessamo88/ProjetoSQL/blob/main/proporc.PNG?raw=true)\n",
    "\n",
    "Nota-se que as pessoas que tem **menor** **faixa salarial** também apresentam **menor limite** de crédito."
   ]
  },
  {
   "cell_type": "code",
   "execution_count": 4,
   "id": "9b367855",
   "metadata": {
    "execution": {
     "iopub.execute_input": "2024-07-02T20:54:49.853820Z",
     "iopub.status.busy": "2024-07-02T20:54:49.853388Z",
     "iopub.status.idle": "2024-07-02T20:54:49.873191Z",
     "shell.execute_reply": "2024-07-02T20:54:49.872096Z"
    },
    "papermill": {
     "duration": 0.03241,
     "end_time": "2024-07-02T20:54:49.875700",
     "exception": false,
     "start_time": "2024-07-02T20:54:49.843290",
     "status": "completed"
    },
    "tags": []
   },
   "outputs": [
    {
     "data": {
      "text/html": [
       "<div>\n",
       "<style scoped>\n",
       "    .dataframe tbody tr th:only-of-type {\n",
       "        vertical-align: middle;\n",
       "    }\n",
       "\n",
       "    .dataframe tbody tr th {\n",
       "        vertical-align: top;\n",
       "    }\n",
       "\n",
       "    .dataframe thead th {\n",
       "        text-align: right;\n",
       "    }\n",
       "</style>\n",
       "<table border=\"1\" class=\"dataframe\">\n",
       "  <thead>\n",
       "    <tr style=\"text-align: right;\">\n",
       "      <th></th>\n",
       "      <th>media_valor_transacoes</th>\n",
       "      <th>media_limite</th>\n",
       "      <th>sexo</th>\n",
       "      <th>salario_anual</th>\n",
       "    </tr>\n",
       "  </thead>\n",
       "  <tbody>\n",
       "    <tr>\n",
       "      <th>0</th>\n",
       "      <td>1963.6719</td>\n",
       "      <td>3452.4036</td>\n",
       "      <td>M</td>\n",
       "      <td>menos que $40K</td>\n",
       "    </tr>\n",
       "    <tr>\n",
       "      <th>1</th>\n",
       "      <td>1878.2974</td>\n",
       "      <td>5753.3100</td>\n",
       "      <td>M</td>\n",
       "      <td>$40K - $60K</td>\n",
       "    </tr>\n",
       "    <tr>\n",
       "      <th>2</th>\n",
       "      <td>1845.1332</td>\n",
       "      <td>4212.1987</td>\n",
       "      <td>F</td>\n",
       "      <td>menos que $40K</td>\n",
       "    </tr>\n",
       "    <tr>\n",
       "      <th>3</th>\n",
       "      <td>1818.6364</td>\n",
       "      <td>9096.0280</td>\n",
       "      <td>M</td>\n",
       "      <td>$60K - $80K</td>\n",
       "    </tr>\n",
       "    <tr>\n",
       "      <th>4</th>\n",
       "      <td>1781.4299</td>\n",
       "      <td>4773.4463</td>\n",
       "      <td>F</td>\n",
       "      <td>$40K - $60K</td>\n",
       "    </tr>\n",
       "    <tr>\n",
       "      <th>5</th>\n",
       "      <td>1755.2499</td>\n",
       "      <td>14886.5560</td>\n",
       "      <td>M</td>\n",
       "      <td>$80K - $120K</td>\n",
       "    </tr>\n",
       "    <tr>\n",
       "      <th>6</th>\n",
       "      <td>1701.4652</td>\n",
       "      <td>17801.4880</td>\n",
       "      <td>M</td>\n",
       "      <td>$120K +</td>\n",
       "    </tr>\n",
       "  </tbody>\n",
       "</table>\n",
       "</div>"
      ],
      "text/plain": [
       "   media_valor_transacoes  media_limite sexo   salario_anual\n",
       "0               1963.6719     3452.4036    M  menos que $40K\n",
       "1               1878.2974     5753.3100    M     $40K - $60K\n",
       "2               1845.1332     4212.1987    F  menos que $40K\n",
       "3               1818.6364     9096.0280    M     $60K - $80K\n",
       "4               1781.4299     4773.4463    F     $40K - $60K\n",
       "5               1755.2499    14886.5560    M    $80K - $120K\n",
       "6               1701.4652    17801.4880    M         $120K +"
      ]
     },
     "execution_count": 4,
     "metadata": {},
     "output_type": "execute_result"
    }
   ],
   "source": [
    "# Carregar o dataset com arquivo .csv estraído do SELECT do AWS Athena:\n",
    "df = pd.read_csv('/kaggle/input/faixasalarial1/faixasalarial.csv')\n",
    "\n",
    "# Exemplo de análise exploratória: mesmos dados do AWS agora em Python\n",
    "df.head(10)"
   ]
  },
  {
   "cell_type": "code",
   "execution_count": 5,
   "id": "b6754582",
   "metadata": {
    "execution": {
     "iopub.execute_input": "2024-07-02T20:54:49.895428Z",
     "iopub.status.busy": "2024-07-02T20:54:49.895056Z",
     "iopub.status.idle": "2024-07-02T20:54:49.900149Z",
     "shell.execute_reply": "2024-07-02T20:54:49.898976Z"
    },
    "papermill": {
     "duration": 0.017946,
     "end_time": "2024-07-02T20:54:49.902658",
     "exception": false,
     "start_time": "2024-07-02T20:54:49.884712",
     "status": "completed"
    },
    "tags": []
   },
   "outputs": [],
   "source": [
    "#Bibliotecas utilizadas\n",
    "import pandas as pd\n",
    "import matplotlib.pyplot as plt"
   ]
  },
  {
   "cell_type": "code",
   "execution_count": 6,
   "id": "49aecb5b",
   "metadata": {
    "execution": {
     "iopub.execute_input": "2024-07-02T20:54:49.922750Z",
     "iopub.status.busy": "2024-07-02T20:54:49.922335Z",
     "iopub.status.idle": "2024-07-02T20:54:50.358828Z",
     "shell.execute_reply": "2024-07-02T20:54:50.357607Z"
    },
    "papermill": {
     "duration": 0.449929,
     "end_time": "2024-07-02T20:54:50.361689",
     "exception": false,
     "start_time": "2024-07-02T20:54:49.911760",
     "status": "completed"
    },
    "tags": []
   },
   "outputs": [
    {
     "name": "stderr",
     "output_type": "stream",
     "text": [
      "/tmp/ipykernel_18/1869851503.py:2: FutureWarning: Downcasting behavior in `replace` is deprecated and will be removed in a future version. To retain the old behavior, explicitly call `result.infer_objects(copy=False)`. To opt-in to the future behavior, set `pd.set_option('future.no_silent_downcasting', True)`\n",
      "  df['salario_anual'] = df['salario_anual'].replace({\n"
     ]
    },
    {
     "data": {
      "image/png": "[encoded data removed]",
      "text/plain": [
       "<Figure size 1000x600 with 1 Axes>"
      ]
     },
     "metadata": {},
     "output_type": "display_data"
    }
   ],
   "source": [
    "# Mapear categorias de salário anual para valores numéricos\n",
    "df['salario_anual'] = df['salario_anual'].replace({\n",
    "    'menos que $40K': 1,\n",
    "    '$40K - $60K': 2,\n",
    "    '$60K - $80K': 3,\n",
    "    '$80K - $120K': 4,\n",
    "    '$120K +': 5\n",
    "})\n",
    "\n",
    "# Agrupar por salário anual e calcular a média do limite de crédito\n",
    "media_limite_por_salario = df.groupby('salario_anual')['media_limite'].mean()\n",
    "\n",
    "# Plotar o gráfico de barras\n",
    "plt.figure(figsize=(10, 6))\n",
    "bars = media_limite_por_salario.plot(kind='bar', color='skyblue')\n",
    "plt.xlabel('Salário Anual')\n",
    "plt.ylabel('Média do Limite de Crédito')\n",
    "plt.title('Média do Limite de Crédito por Categoria de Salário Anual')\n",
    "plt.xticks(rotation=45)\n",
    "plt.grid(True)\n",
    "\n",
    "# Adicionar legenda\n",
    "legenda = {\n",
    "    1: 'menos que $40K',\n",
    "    2: '$40K - $60K',\n",
    "    3: '$60K - $80K',\n",
    "    4: '$80K - $120K',\n",
    "    5: '$120K +'\n",
    "}\n",
    "\n",
    "for bar, salario_anual in zip(bars.patches, media_limite_por_salario.index):\n",
    "    plt.text(bar.get_x() + bar.get_width() / 2 - 0.15, bar.get_height() + 50, legenda[salario_anual], ha='center', va='bottom')\n",
    "\n",
    "plt.show()"
   ]
  },
  {
   "cell_type": "markdown",
   "id": "51e560d9",
   "metadata": {
    "papermill": {
     "duration": 0.009482,
     "end_time": "2024-07-02T20:54:50.381100",
     "exception": false,
     "start_time": "2024-07-02T20:54:50.371618",
     "status": "completed"
    },
    "tags": []
   },
   "source": [
    "Neste gráfico podemos ver perfeitamente a progressão do limite de crédito em relação à média salarial dos clientes."
   ]
  },
  {
   "cell_type": "markdown",
   "id": "e54967f9",
   "metadata": {
    "papermill": {
     "duration": 0.009508,
     "end_time": "2024-07-02T20:54:50.400454",
     "exception": false,
     "start_time": "2024-07-02T20:54:50.390946",
     "status": "completed"
    },
    "tags": []
   },
   "source": [
    "# **Conclusão**\n",
    "\n",
    "Essas foram algumas análises extraídas do dataset de crédito.\n",
    "\n",
    "Alguns insights interessantes:\n",
    "\n",
    "* a maior parte dos clientes possui renda até 40K\n",
    "* a maior parte dos clientes é homem\n",
    "* a escolaridade não parece influenciar no limite nem no tipo do cartão\n",
    "* os clientes com maiores limites são em sua maioria homens\n",
    "* os clientes com menores limites são em sua maioria mulheres\n",
    "* dentre os menores limites não há presença de cartão platinum\n",
    "* a faixa salarial impacta diretamente no limite de crédito\n",
    "* não existem clientes com salário anual acima de 60K do sexo feminino\n"
   ]
  }
 ],
 "metadata": {
  "kaggle": {
   "accelerator": "none",
   "dataSources": [
    {
     "datasetId": 5322784,
     "sourceId": 8843688,
     "sourceType": "datasetVersion"
    },
    {
     "datasetId": 5322993,
     "sourceId": 8844017,
     "sourceType": "datasetVersion"
    }
   ],
   "dockerImageVersionId": 30732,
   "isGpuEnabled": false,
   "isInternetEnabled": true,
   "language": "python",
   "sourceType": "notebook"
  },
  "kernelspec": {
   "display_name": "Python 3",
   "language": "python",
   "name": "python3"
  },
  "language_info": {
   "codemirror_mode": {
    "name": "ipython",
    "version": 3
   },
   "file_extension": ".py",
   "mimetype": "text/x-python",
   "name": "python",
   "nbconvert_exporter": "python",
   "pygments_lexer": "ipython3",
   "version": "3.10.13"
  },
  "papermill": {
   "default_parameters": {},
   "duration": 5.716664,
   "end_time": "2024-07-02T20:54:50.932938",
   "environment_variables": {},
   "exception": null,
   "input_path": "__notebook__.ipynb",
   "output_path": "__notebook__.ipynb",
   "parameters": {},
   "start_time": "2024-07-02T20:54:45.216274",
   "version": "2.5.0"
  }
 },
 "nbformat": 4,
 "nbformat_minor": 5
}
